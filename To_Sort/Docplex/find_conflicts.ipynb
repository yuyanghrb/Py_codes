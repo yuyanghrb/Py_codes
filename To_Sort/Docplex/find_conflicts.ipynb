{
 "cells": [
  {
   "cell_type": "code",
   "execution_count": 1,
   "metadata": {},
   "outputs": [],
   "source": [
    "# DO Conflict\n",
    "# https://ibmdecisionoptimization.github.io/docplex-doc/mp/docplex.mp.conflict_refiner.html"
   ]
  },
  {
   "cell_type": "code",
   "execution_count": 1,
   "metadata": {},
   "outputs": [],
   "source": [
    "from docplex.mp.conflict_refiner import ConflictRefiner as CR"
   ]
  },
  {
   "cell_type": "code",
   "execution_count": 2,
   "metadata": {},
   "outputs": [
    {
     "name": "stdout",
     "output_type": "stream",
     "text": "Help on class ConflictRefiner in module docplex.mp.conflict_refiner:\n\nclass ConflictRefiner(docplex.mp.utils.PublishResultAsDf, builtins.object)\n |  ConflictRefiner(output_processing=None)\n |  \n |  This class is an abstract algorithm; it operates on interfaces.\n |  \n |  A conflict is a set of mutually contradictory constraints and bounds within a model.\n |  Given an infeasible model, the conflict refiner can identify conflicting constraints and bounds\n |  within it. CPLEX refines an infeasible model by examining elements that can be removed from the\n |  conflict to arrive at a minimal conflict.\n |  \n |  Method resolution order:\n |      ConflictRefiner\n |      docplex.mp.utils.PublishResultAsDf\n |      builtins.object\n |  \n |  Methods defined here:\n |  \n |  __init__(self, output_processing=None)\n |      Initialize self.  See help(type(self)) for accurate signature.\n |  \n |  refine_conflict(self, mdl, preferences=None, groups=None, **kwargs)\n |      Starts the conflict refiner on the model.\n |      \n |      Args:\n |          mdl: The model to be relaxed.\n |          preferences: A dictionary defining constraint preferences.\n |          groups: A list of ConstraintsGroups.\n |          kwargs: Accepts named arguments similar to solve.\n |      \n |      Returns:\n |          A list of ``TConflictConstraint`` namedtuples, each tuple corresponding to a constraint that is\n |          involved in the conflict.\n |          The fields of the ``TConflictConstraint`` namedtuple are:\n |      \n |              - the name of the constraint or None if the constraint corresponds to a variable lower or upper bound.\n |              - a reference to the constraint or to a wrapper representing a Var upper or lower bound.\n |              - a ``docplex.mp.constants.ConflictStatus`` object that indicates the\n |                conflict status type (Excluded, Possible_member, Member...).\n |      \n |          This list is empty if no conflict is found by the conflict refiner.\n |  \n |  ----------------------------------------------------------------------\n |  Static methods defined here:\n |  \n |  display_conflicts(conflicts)\n |      This method displays a formatted representation of the conflicts that are provided.\n |      \n |      Args:\n |         conflicts: A list of ``TConflictConstraint`` namedtuples, one that was returned\n |                    by the `refine_conflict()` method.\n |  \n |  ----------------------------------------------------------------------\n |  Methods inherited from docplex.mp.utils.PublishResultAsDf:\n |  \n |  is_publishing_output_table(self, context)\n |  \n |  write_output_table(self, df, context, output_property_name=None, output_name=None)\n |      Publishes the output `df`.\n |      \n |      The `context` is used to control the output name:\n |      \n |          - If context.solver.auto_publish is true, the `df` is written using\n |          output_name.\n |          - If context.solver.auto_publish is false, This method does nothing.\n |          - If context.solver.auto_publish.output_property_name is true,\n |             then `df` is written using output_name.\n |          - If context.solver.auto_publish.output_propert_name is None or\n |          False, this method does nothing.\n |          - If context.solver.auto_publish.output_propert_name is a string,\n |          it is used as a name to publish the df\n |      \n |      Example:\n |      \n |          A solver can be defined as publishing a result as data frame::\n |      \n |              class SomeSolver(PublishResultAsDf)\n |                 def __init__(self, output_customizer):\n |                    # output something if context.solver.autopublish.somesolver_output is set\n |                    self.output_table_property_name = 'somesolver_output'\n |                    # output filename unless specified by somesolver_output:\n |                    self.default_output_table_name = 'somesolver.csv'\n |                    # customizer if users wants one\n |                    self.output_table_customizer = output_customizer\n |                    # uses pandas.DataFrame if possible, otherwise will use namedtuples\n |                    self.output_table_using_df = True\n |      \n |                  def solve(self):\n |                      # do something here and return a result as a df\n |                      result = pandas.DataFrame(columns=['A','B','C'])\n |                      return result\n |      \n |          Example usage::\n |      \n |             solver = SomeSolver()\n |             results = solver.solve()\n |             solver.write_output_table(results)\n |  \n |  ----------------------------------------------------------------------\n |  Data descriptors inherited from docplex.mp.utils.PublishResultAsDf:\n |  \n |  __dict__\n |      dictionary for instance variables (if defined)\n |  \n |  __weakref__\n |      list of weak references to the object (if defined)\n\n"
    }
   ],
   "source": [
    "help(CR)"
   ]
  },
  {
   "cell_type": "code",
   "execution_count": 3,
   "metadata": {},
   "outputs": [],
   "source": [
    "from docplex.mp.model import Model\n",
    "\n",
    "m = Model('Demo_name')\n",
    "\n",
    "# variable define\n",
    "desk = m.continuous_var(name='desk')\n",
    "cell = m.continuous_var(name='cell')\n",
    "\n",
    "# write constraints\n",
    "m.add_constraint(desk >= 100)\n",
    "m.add_constraint(cell >= 100, ctname='C2')\n",
    "m.add_constraint(cell <= 50, ctname='C3')\n",
    "ct_assembly = m.add_constraint( 0.2 * desk + 0.4 * cell <= 400)\n",
    "ct_painting = m.add_constraint( 0.5 * desk + 0.4 * cell <= 490)\n",
    "\n",
    "# objective value\n",
    "m.maximize(12 * desk + 20 * cell)"
   ]
  },
  {
   "cell_type": "code",
   "execution_count": 4,
   "metadata": {},
   "outputs": [],
   "source": [
    "test = CR()"
   ]
  },
  {
   "cell_type": "code",
   "execution_count": 5,
   "metadata": {},
   "outputs": [],
   "source": [
    "result = test.refine_conflict(m)"
   ]
  },
  {
   "cell_type": "code",
   "execution_count": 6,
   "metadata": {},
   "outputs": [
    {
     "data": {
      "text/plain": "[_TConflictConstraint(name='C2', element=docplex.mp.LinearConstraint[C2](cell,GE,100), status=<ConflictStatus.Member: 3>),\n _TConflictConstraint(name='C3', element=docplex.mp.LinearConstraint[C3](cell,LE,50), status=<ConflictStatus.Member: 3>)]"
     },
     "execution_count": 6,
     "metadata": {},
     "output_type": "execute_result"
    }
   ],
   "source": [
    "result"
   ]
  },
  {
   "cell_type": "code",
   "execution_count": 7,
   "metadata": {},
   "outputs": [
    {
     "name": "stdout",
     "output_type": "stream",
     "text": "Conflict set:\n\t<class 'docplex.mp.constr.LinearConstraint'> (status code: ConflictStatus.Member) - C2: C2: cell >= 100\n\t<class 'docplex.mp.constr.LinearConstraint'> (status code: ConflictStatus.Member) - C3: C3: cell <= 50\n"
    }
   ],
   "source": [
    "test.display_conflicts(result)"
   ]
  },
  {
   "cell_type": "code",
   "execution_count": 8,
   "metadata": {},
   "outputs": [
    {
     "name": "stdout",
     "output_type": "stream",
     "text": "* number of relaxations: 1\n - relaxed: C3, with relaxation: 50.0\n* total absolute relaxation: 50.0\n"
    }
   ],
   "source": [
    "from docplex.mp.relaxer import Relaxer\n",
    "\n",
    "rx = Relaxer()\n",
    "# relax constraints with minimal total slack\n",
    "# return a relaxed solution\n",
    "rs = rx.relax(m)\n",
    "# look at what is relaxed\n",
    "rx.print_information()"
   ]
  },
  {
   "cell_type": "code",
   "execution_count": 9,
   "metadata": {},
   "outputs": [
    {
     "data": {
      "text/plain": "docplex.mp.solution.SolveSolution(obj=12800,values={desk:900,cell:100})"
     },
     "execution_count": 9,
     "metadata": {},
     "output_type": "execute_result"
    }
   ],
   "source": [
    "rs"
   ]
  },
  {
   "cell_type": "code",
   "execution_count": 13,
   "metadata": {},
   "outputs": [
    {
     "data": {
      "text/plain": "900.0"
     },
     "execution_count": 13,
     "metadata": {},
     "output_type": "execute_result"
    }
   ],
   "source": [
    "desk.solution_value"
   ]
  },
  {
   "cell_type": "code",
   "execution_count": null,
   "metadata": {},
   "outputs": [],
   "source": []
  },
  {
   "cell_type": "code",
   "execution_count": 12,
   "metadata": {},
   "outputs": [
    {
     "name": "stdout",
     "output_type": "stream",
     "text": "Help on Var in module docplex.mp.linear object:\n\nclass Var(docplex.mp.basic.ModelingObject, docplex.mp.operand.LinearOperand, docplex.mp.basic._BendersAnnotatedMixin)\n |  Var(model, vartype, name, lb=None, ub=None, container=None, _safe_lb=False, _safe_ub=False)\n |  \n |  Var()\n |  \n |  This class models decision variables.\n |  Decision variables are instantiated by :class:`docplex.mp.model.Model` methods such as :func:`docplex.mp.model.Model.var`.\n |  \n |  Method resolution order:\n |      Var\n |      docplex.mp.basic.ModelingObject\n |      docplex.mp.basic.ModelingObjectBase\n |      docplex.mp.operand.LinearOperand\n |      docplex.mp.operand.Operand\n |      docplex.mp.basic._BendersAnnotatedMixin\n |      builtins.object\n |  \n |  Methods defined here:\n |  \n |  __add__(self, e)\n |  \n |  __div__(self, e)\n |  \n |  __float__(self)\n |      Converts a decision variable to a floating-point number.\n |      \n |      This is only possible when the model has been solved successfully,\n |      otherwise an exception is raised.\n |      If the model has been solved, it returns the variable's solution value.\n |      \n |      Returns:\n |          float: The variable's solution value.\n |      Raises:\n |          DOCplexException\n |              if the model has not been solved successfully.\n |  \n |  __hash__(self)\n |      Return hash(self).\n |  \n |  __init__(self, model, vartype, name, lb=None, ub=None, container=None, _safe_lb=False, _safe_ub=False)\n |      Initialize self.  See help(type(self)) for accurate signature.\n |  \n |  __int__(self)\n |      Converts a decision variable to a integer number.\n |      \n |      This is only possible for discrete variables,\n |      and when the model has been solved successfully.\n |      If the model has been solved, returns the variable's solution value.\n |      \n |      Returns:\n |          int: The variable's solution value.\n |      \n |      Raises:\n |          DOCplexException\n |              if the model has not been solved successfully.\n |          DOCplexException\n |              if the variable is not discrete.\n |  \n |  __mul__(self, e)\n |  \n |  __ne__(self, other)\n |      Return self!=value.\n |  \n |  __neg__(self)\n |  \n |  __pos__(self)\n |  \n |  __pow__(self, power)\n |  \n |  __radd__(self, e)\n |  \n |  __rdiv__(self, e)\n |  \n |  __repr__(self)\n |      Return repr(self).\n |  \n |  __rmul__(self, e)\n |  \n |  __rshift__(self, other)\n |      Redefines the right-shift operator to create indicators.\n |      \n |      This operator allows to create indicators with the `>>` operator.\n |      It expects a linear constraint as second argument.\n |      \n |      :param other: a linear constraint used to create the indicator\n |      \n |      :return:\n |          an instance of IndicatorConstraint, that is not added to the model.\n |          Use `Model.add()` to add it to the model.\n |      \n |      Note:\n |          The variable must be binary, otherwise an exception is raised.\n |      \n |      Example:\n |      \n |          >>> m.add(b >> (x >=3)\n |      \n |          creates an indicator which links the satisfaction of the constraint (x >= 3)\n |          to the value of binary variable b.\n |  \n |  __rsub__(self, e)\n |  \n |  __rtruediv__(self, e)\n |  \n |  __str__(self)\n |      Returns:\n |          string: A string representation of the variable.\n |  \n |  __sub__(self, e)\n |  \n |  __truediv__(self, e)\n |  \n |  accept_initial_value(self, candidate_value)\n |  \n |  as_variable(self)\n |  \n |  check_name(self, new_name)\n |  \n |  clone(self)\n |  \n |  contains_var(self, dvar)\n |  \n |  copy(self, new_model, var_mapping)\n |      # noinspection PyUnusedLocal\n |  \n |  divide(self, e)\n |  \n |  get_container_index(self)\n |  \n |  get_key(self)\n |      Returns the key used to create the variable, or None.\n |      \n |      When the variable is part of a list or dictionary of variables created from a sequence of keys,\n |      returns the key associated with the variable.\n |      \n |      Example:\n |          xs = m.continuous_var_dict(keys=['a', 'b', 'c'])\n |          xa = xs['a']\n |          assert xa.get_key() == 'a'\n |      \n |      :return:\n |          a Python object, possibly None.\n |  \n |  get_value(self)\n |  \n |  get_vartype(self)\n |  \n |  has_free_lb(self)\n |  \n |  has_free_ub(self)\n |  \n |  has_type(self, vartype)\n |  \n |  is_binary(self)\n |      Checks if the variable is binary.\n |      \n |      Returns:\n |          Boolean: True if the variable is of type Binary.\n |  \n |  is_continuous(self)\n |      Checks if the variable is continuous.\n |      \n |      Returns:\n |          Boolean: True if the variable is of type Continuous.\n |  \n |  is_discrete(self)\n |      Checks if the variable is discrete.\n |      \n |      Returns:\n |          Boolean: True if the variable is of  type Binary or Integer.\n |  \n |  is_free(self)\n |  \n |  is_integer(self)\n |      Checks if the variable is integer.\n |      \n |      Returns:\n |          Boolean: True if the variable is of type Integer.\n |  \n |  iter_constraints(self)\n |      Returns an iterator traversing all constraints in which the variable is used.\n |      \n |      :return:\n |          An iterator.\n |  \n |  iter_sorted_terms = iter_terms(self)\n |  \n |  iter_terms(self)\n |  \n |  minus(self, e)\n |  \n |  negate(self)\n |  \n |  number_of_terms(self)\n |  \n |  plus(self, e)\n |  \n |  print_name(self)\n |  \n |  set_lb(self, lb)\n |  \n |  set_name(self, new_name)\n |  \n |  set_ub(self, ub)\n |  \n |  set_vartype(self, new_vartype)\n |  \n |  square(self)\n |  \n |  times(self, e)\n |  \n |  to_bool(self, precision=1e-06)\n |      Converts a variable value to True or False.\n |      \n |      This is only possible for discrete variables and assumes there is a solution.\n |      \n |      Raises:\n |          DOCplexException \n |              if the model has not been solved successfully.\n |          DOCplexException \n |              if the variable is not discrete.\n |      \n |      Returns:\n |          Boolean: True if the variable value is nonzero, else False.\n |  \n |  to_linear_expr(self)\n |  \n |  to_string(self)\n |  \n |  unchecked_get_coef(self, dvar)\n |  \n |  ----------------------------------------------------------------------\n |  Static methods defined here:\n |  \n |  cplex_scope()\n |  \n |  ----------------------------------------------------------------------\n |  Data descriptors defined here:\n |  \n |  __dict__\n |      dictionary for instance variables (if defined)\n |  \n |  __weakref__\n |      list of weak references to the object (if defined)\n |  \n |  benders_annotation\n |      This property is used to get or set the Benders annotation of a variable.\n |      The value of the annotation must be a positive integer\n |  \n |  float_precision\n |  \n |  lb\n |      This property is used to get or set the lower bound of the variable.\n |      \n |      Possible values for the lower bound depend on the variable type. Binary variables\n |      accept only 0 or 1 as bounds. An integer variable will convert the lower bound value to the\n |      ceiling integer value of the argument.\n |  \n |  name\n |  \n |  reduced_cost\n |      Returns the reduced cost of the variable.\n |      \n |      This method will raise an exception if the model has not been solved as a LP.\n |      \n |       Note:\n |           For a large number of variables (> 100), using the `Model.reduced_costs()` method can be much faster.\n |      \n |       Returns:\n |           The reduced cost of the variable (a float value).\n |      \n |       See Also:\n |      \n |           :func:`docplex.mp.model.Model.reduced_costs`\n |  \n |  solution_value\n |      This property returns the solution value of the variable.\n |      \n |      Raises:\n |          DOCplexException\n |              if the model has not been solved succesfully.\n |  \n |  ub\n |      This property is used to get or set the upper bound of the variable.\n |      \n |      Possible values for the upper bound depend on the variable type. Binary variables\n |      accept only 0 or 1 as bounds. An integer variable will convert the upper bound value to the\n |      floor integer value of the argument.\n |      \n |      To reset the upper bound to its default infinity value, use :func:`docplex.mp.model.Model.infinity`.\n |  \n |  unchecked_solution_value\n |  \n |  vartype\n |      This property returns the variable type, an instance of :class:`VarType`.\n |  \n |  ----------------------------------------------------------------------\n |  Methods inherited from docplex.mp.basic.ModelingObject:\n |  \n |  get_container(self)\n |  \n |  get_index(self)\n |  \n |  has_valid_index(self)\n |  \n |  is_generated(self)\n |      Checks whether this object has been generated by another modeling object.\n |      \n |      If so, the origin object is stored in the ``_origin`` attribute.\n |      \n |      Returns:\n |          True if the objects has been generated.\n |  \n |  is_valid_index(self, idx)\n |  \n |  notify_origin(self, origin)\n |  \n |  origin(self)\n |  \n |  set_index(self, idx)\n |  \n |  ----------------------------------------------------------------------\n |  Data descriptors inherited from docplex.mp.basic.ModelingObject:\n |  \n |  index\n |  \n |  safe_index\n |  \n |  unchecked_index\n |  \n |  ----------------------------------------------------------------------\n |  Methods inherited from docplex.mp.basic.ModelingObjectBase:\n |  \n |  __unicode__(self)\n |  \n |  error(self, msg, *args)\n |  \n |  fatal(self, msg, *args)\n |  \n |  get_linear_factory(self)\n |  \n |  get_name(self)\n |  \n |  get_quadratic_factory(self)\n |  \n |  has_name(self)\n |      Checks whether the object has a name.\n |      \n |      Returns:\n |          True if the object has a name.\n |  \n |  has_user_name(self)\n |      Checks whether the object has a valid name given by the user.\n |      \n |      Returns:\n |          True if the object has a valid name given by the user.\n |  \n |  is_in_model(self, model)\n |  \n |  is_model_ordered(self)\n |  \n |  is_quad_expr(self)\n |  \n |  trace(self, msg, *args)\n |  \n |  truncated_str(self)\n |  \n |  warning(self, msg, *args)\n |  \n |  zero_expr(self)\n |  \n |  ----------------------------------------------------------------------\n |  Data descriptors inherited from docplex.mp.basic.ModelingObjectBase:\n |  \n |  error_handler\n |  \n |  model\n |      This property returns the :class:`docplex.mp.model.Model` to which the object belongs.\n |  \n |  ----------------------------------------------------------------------\n |  Data and other attributes inherited from docplex.mp.basic.ModelingObjectBase:\n |  \n |  __array_priority__ = 100\n |  \n |  ----------------------------------------------------------------------\n |  Methods inherited from docplex.mp.operand.LinearOperand:\n |  \n |  __contains__(self, dvar)\n |      Overloads operator `in` for an expression and a variable.\n |      \n |      :param: dvar (:class:`docplex.mp.linear.Var`): A decision variable.\n |      \n |      Returns:\n |          Boolean: True if the variable is present in the expression, else False.\n |  \n |  __gt__(self, e)\n |      Return self>value.\n |  \n |  __lt__(self, e)\n |      Return self<value.\n |  \n |  is_constant(self)\n |  \n |  is_discrete_locked(self)\n |  \n |  is_zero(self)\n |  \n |  iter_quads(self)\n |  \n |  iter_variables(self)\n |      Iterates over all variables in the expression.\n |      \n |      Returns:\n |          iterator: An iterator over all variables present in the operand.\n |  \n |  lock_discrete(self)\n |  \n |  size(self)\n |  \n |  ----------------------------------------------------------------------\n |  Methods inherited from docplex.mp.operand.Operand:\n |  \n |  __eq__(self, rhs)\n |      Return self==value.\n |  \n |  __ge__(self, rhs)\n |      Return self>=value.\n |  \n |  __le__(self, rhs)\n |      Return self<=value.\n |  \n |  eq = __eq__(self, rhs)\n |  \n |  ge = __ge__(self, rhs)\n |  \n |  get_constant(self)\n |  \n |  get_linear_part(self)\n |  \n |  is_in_use(self)\n |  \n |  keep(self)\n |  \n |  le = __le__(self, rhs)\n |  \n |  notify_modified(self, event)\n |  \n |  notify_unsubscribed(self, subscriber)\n |  \n |  notify_used(self, user)\n |      # --- basic subscription api\n |  \n |  resolve(self)\n |  \n |  ----------------------------------------------------------------------\n |  Methods inherited from docplex.mp.basic._BendersAnnotatedMixin:\n |  \n |  get_benders_annotation(self)\n |  \n |  set_benders_annotation(self, group)\n\n"
    }
   ],
   "source": [
    "help(desk)"
   ]
  }
 ],
 "metadata": {
  "kernelspec": {
   "display_name": "Python 3",
   "language": "python",
   "name": "python3"
  },
  "language_info": {
   "codemirror_mode": {
    "name": "ipython",
    "version": 3
   },
   "file_extension": ".py",
   "mimetype": "text/x-python",
   "name": "python",
   "nbconvert_exporter": "python",
   "pygments_lexer": "ipython3",
   "version": "3.7.4"
  }
 },
 "nbformat": 4,
 "nbformat_minor": 4
}