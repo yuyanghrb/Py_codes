{
 "cells": [
  {
   "cell_type": "code",
   "execution_count": 2,
   "metadata": {},
   "outputs": [
    {
     "name": "stdout",
     "output_type": "stream",
     "text": [
      "Model: Demo_name\n",
      " - number of variables: 2\n",
      "   - binary=0, integer=0, continuous=2\n",
      " - number of constraints: 4\n",
      "   - linear=4\n",
      " - parameters: defaults\n",
      "============\n",
      "* model Demo_name solved with objective = 20600.000\n",
      "============\n",
      "objective: 20600.000\n",
      "  desk=300.000\n",
      "  cell=850.000\n",
      "============\n",
      "solution for: Demo_name\n",
      "objective: 20600\n",
      "desk=300.000\n",
      "cell=850.000\n",
      "\n"
     ]
    }
   ],
   "source": [
    "url = None\n",
    "key = None\n",
    "\n",
    "from docplex.mp.model import Model\n",
    "\n",
    "# start model\n",
    "m = Model('Demo_name')\n",
    "\n",
    "# variable define\n",
    "desk = m.continuous_var(name='desk')\n",
    "cell = m.continuous_var(name='cell')\n",
    "\n",
    "# write constraints\n",
    "m.add_constraint(desk >= 100)\n",
    "m.add_constraint(cell >= 100)\n",
    "ct_assembly = m.add_constraint( 0.2 * desk + 0.4 * cell <= 400)\n",
    "ct_painting = m.add_constraint( 0.5 * desk + 0.4 * cell <= 490)\n",
    "\n",
    "# objective value\n",
    "m.maximize(12 * desk + 20 * cell)\n",
    "\n",
    "# check model infomation\n",
    "m.print_information()\n",
    "print('============')\n",
    "# solve the model\n",
    "s = m.solve(url=url, key=key)\n",
    "assert s is not None, \"model can't solve\"\n",
    "\n",
    "\n",
    "m.report()\n",
    "print('============')\n",
    "\n",
    "m.print_solution()\n",
    "\n",
    "print('============')\n",
    "\n",
    "# output to test\n",
    "# sol = m.solve()\n",
    "# print(sol)\n"
   ]
  },
  {
   "cell_type": "code",
   "execution_count": 3,
   "metadata": {},
   "outputs": [
    {
     "data": {
      "text/plain": [
       "docplex.mp.solution.SolveSolution(obj=20600,values={desk:300,cell:850})"
      ]
     },
     "execution_count": 3,
     "metadata": {},
     "output_type": "execute_result"
    }
   ],
   "source": [
    "s"
   ]
  },
  {
   "cell_type": "code",
   "execution_count": null,
   "metadata": {},
   "outputs": [],
   "source": []
  }
 ],
 "metadata": {
  "kernelspec": {
   "display_name": "Python 3",
   "language": "python",
   "name": "python3"
  },
  "language_info": {
   "codemirror_mode": {
    "name": "ipython",
    "version": 3
   },
   "file_extension": ".py",
   "mimetype": "text/x-python",
   "name": "python",
   "nbconvert_exporter": "python",
   "pygments_lexer": "ipython3",
   "version": "3.7.4"
  }
 },
 "nbformat": 4,
 "nbformat_minor": 4
}
